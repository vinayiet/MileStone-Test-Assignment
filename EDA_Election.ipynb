{
 "cells": [
  {
   "cell_type": "code",
   "execution_count": null,
   "id": "933019b3-6bd2-478c-a1c5-aef504308be3",
   "metadata": {},
   "outputs": [],
   "source": [
    "# 2. Do the Eda on this Dataset :Presidential Election Polls 2024 Dataset and extract useful information from\n",
    "# this:\n",
    "# Dataset: Nationwide Russian election poll data from March 04, 2024\n",
    "# Dataset Description:\n",
    "# This dataset comprises the results of a nationwide presidential election poll conducted on March 4, 2024. The\n",
    "# data offers various insights but does not align with the official election results. You are encouraged to create\n",
    "# your notebooks and delve into the data for further exploration.\n",
    "\n"
   ]
  }
 ],
 "metadata": {
  "kernelspec": {
   "display_name": "Python 3 (ipykernel)",
   "language": "python",
   "name": "python3"
  },
  "language_info": {
   "codemirror_mode": {
    "name": "ipython",
    "version": 3
   },
   "file_extension": ".py",
   "mimetype": "text/x-python",
   "name": "python",
   "nbconvert_exporter": "python",
   "pygments_lexer": "ipython3",
   "version": "3.10.8"
  }
 },
 "nbformat": 4,
 "nbformat_minor": 5
}
