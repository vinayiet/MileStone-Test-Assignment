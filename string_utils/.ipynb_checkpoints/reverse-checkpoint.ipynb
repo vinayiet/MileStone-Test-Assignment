{
 "cells": [
  {
   "cell_type": "code",
   "execution_count": 12,
   "id": "0828961b-cd1c-4160-a46b-a74f98967be7",
   "metadata": {},
   "outputs": [
    {
     "ename": "ImportError",
     "evalue": "cannot import name 'reverse_string' from 'string_utils' (unknown location)",
     "output_type": "error",
     "traceback": [
      "\u001b[0;31m---------------------------------------------------------------------------\u001b[0m",
      "\u001b[0;31mImportError\u001b[0m                               Traceback (most recent call last)",
      "Cell \u001b[0;32mIn[12], line 1\u001b[0m\n\u001b[0;32m----> 1\u001b[0m \u001b[38;5;28;01mfrom\u001b[39;00m \u001b[38;5;21;01mstring_utils\u001b[39;00m \u001b[38;5;28;01mimport\u001b[39;00m reverse_string, capitalize_string, uppercase_string, lowercase_string, titlecase_string, is_palindrome\n\u001b[1;32m      3\u001b[0m \u001b[38;5;28;01mdef\u001b[39;00m \u001b[38;5;21mmain\u001b[39m():\n\u001b[1;32m      4\u001b[0m     sample_string \u001b[38;5;241m=\u001b[39m \u001b[38;5;124m\"\u001b[39m\u001b[38;5;124mhello world\u001b[39m\u001b[38;5;124m\"\u001b[39m\n",
      "\u001b[0;31mImportError\u001b[0m: cannot import name 'reverse_string' from 'string_utils' (unknown location)"
     ]
    }
   ],
   "source": [
    "from string_utils import reverse_string, capitalize_string, uppercase_string, lowercase_string, titlecase_string, is_palindrome\n",
    "\n",
    "def main():\n",
    "    sample_string = \"hello world\"\n",
    "\n",
    "    reversed_string = reverse_string(sample_string)\n",
    "    print(\"Reversed:\", reversed_string)\n",
    "\n",
    "    capitalized_string = capitalize_string(sample_string)\n",
    "    print(\"Capitalized:\", capitalized_string)\n",
    "\n",
    "    uppercase_string = uppercase_string(sample_string)\n",
    "    print(\"Uppercase:\", uppercase_string)\n",
    "\n",
    "    lowercase_string = lowercase_string(sample_string)\n",
    "    print(\"Lowercase:\", lowercase_string)\n",
    "\n",
    "    titlecase_string = titlecase_string(sample_string)\n",
    "    print(\"Title Case:\", titlecase_string)\n",
    "\n",
    "    palindrome_test = \"madam\"\n",
    "    is_palindrome_result = is_palindrome(palindrome_test)\n",
    "    print(f\"Is '{palindrome_test}' a palindrome?\", is_palindrome_result)\n",
    "\n",
    "if __name__ == '__main__':\n",
    "    main()\n"
   ]
  }
 ],
 "metadata": {
  "kernelspec": {
   "display_name": "Python 3 (ipykernel)",
   "language": "python",
   "name": "python3"
  },
  "language_info": {
   "codemirror_mode": {
    "name": "ipython",
    "version": 3
   },
   "file_extension": ".py",
   "mimetype": "text/x-python",
   "name": "python",
   "nbconvert_exporter": "python",
   "pygments_lexer": "ipython3",
   "version": "3.10.8"
  }
 },
 "nbformat": 4,
 "nbformat_minor": 5
}
