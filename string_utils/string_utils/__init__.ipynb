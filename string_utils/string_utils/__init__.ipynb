{
 "cells": [
  {
   "cell_type": "code",
   "execution_count": null,
   "id": "20ba1e6b-91d8-4807-9c79-c7a41ceced56",
   "metadata": {},
   "outputs": [],
   "source": [
    "from .string_utils import reverse_string, capitalize_string, uppercase_string, lowercase_string, titlecase_string, is_palindrome"
   ]
  }
 ],
 "metadata": {
  "kernelspec": {
   "display_name": "Python 3 (ipykernel)",
   "language": "python",
   "name": "python3"
  },
  "language_info": {
   "codemirror_mode": {
    "name": "ipython",
    "version": 3
   },
   "file_extension": ".py",
   "mimetype": "text/x-python",
   "name": "python",
   "nbconvert_exporter": "python",
   "pygments_lexer": "ipython3",
   "version": "3.10.8"
  }
 },
 "nbformat": 4,
 "nbformat_minor": 5
}
