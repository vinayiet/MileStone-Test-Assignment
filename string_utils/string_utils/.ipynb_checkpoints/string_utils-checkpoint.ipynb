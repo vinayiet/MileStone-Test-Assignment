{
 "cells": [
  {
   "cell_type": "code",
   "execution_count": 1,
   "id": "caf790db-b03a-4f90-94d0-a7cca5878e58",
   "metadata": {},
   "outputs": [
    {
     "ename": "ModuleNotFoundError",
     "evalue": "No module named 'string_utils'",
     "output_type": "error",
     "traceback": [
      "\u001b[0;31m---------------------------------------------------------------------------\u001b[0m",
      "\u001b[0;31mModuleNotFoundError\u001b[0m                       Traceback (most recent call last)",
      "Cell \u001b[0;32mIn[1], line 3\u001b[0m\n\u001b[1;32m      1\u001b[0m \u001b[38;5;66;03m# main.py\u001b[39;00m\n\u001b[0;32m----> 3\u001b[0m \u001b[38;5;28;01mimport\u001b[39;00m \u001b[38;5;21;01mstring_utils\u001b[39;00m\n\u001b[1;32m      5\u001b[0m sample_string \u001b[38;5;241m=\u001b[39m \u001b[38;5;124m\"\u001b[39m\u001b[38;5;124mhello world\u001b[39m\u001b[38;5;124m\"\u001b[39m\n\u001b[1;32m      7\u001b[0m reversed_string \u001b[38;5;241m=\u001b[39m string_utils\u001b[38;5;241m.\u001b[39mreverse_string(sample_string)\n",
      "\u001b[0;31mModuleNotFoundError\u001b[0m: No module named 'string_utils'"
     ]
    }
   ],
   "source": [
    "# main.py\n",
    "def reverse_string(s):\n",
    "    return s[::-1]\n",
    "\n",
    "def capitalize_string(s):\n",
    "    return s.capitalize()\n",
    "\n",
    "def uppercase_string(s):\n",
    "    return s.upper()\n",
    "\n",
    "def lowercase_string(s):\n",
    "    return s.lower()\n",
    "\n",
    "def titlecase_string(s):\n",
    "    return s.title()\n",
    "\n",
    "def is_palindrome(s):\n",
    "    return s == s[::-1]\n"
   ]
  }
 ],
 "metadata": {
  "kernelspec": {
   "display_name": "Python 3 (ipykernel)",
   "language": "python",
   "name": "python3"
  },
  "language_info": {
   "codemirror_mode": {
    "name": "ipython",
    "version": 3
   },
   "file_extension": ".py",
   "mimetype": "text/x-python",
   "name": "python",
   "nbconvert_exporter": "python",
   "pygments_lexer": "ipython3",
   "version": "3.10.8"
  }
 },
 "nbformat": 4,
 "nbformat_minor": 5
}
