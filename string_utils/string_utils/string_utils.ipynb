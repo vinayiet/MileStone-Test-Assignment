{
 "cells": [
  {
   "cell_type": "code",
   "execution_count": 2,
   "id": "caf790db-b03a-4f90-94d0-a7cca5878e58",
   "metadata": {},
   "outputs": [],
   "source": [
    "def reverse_string(s):\n",
    "    return s[::-1]\n",
    "\n",
    "def capitalize_string(s):\n",
    "    return s.capitalize()\n",
    "\n",
    "def uppercase_string(s):\n",
    "    return s.upper()\n",
    "\n",
    "def lowercase_string(s):\n",
    "    return s.lower()\n",
    "\n",
    "def titlecase_string(s):\n",
    "    return s.title()\n",
    "\n",
    "def is_palindrome(s):\n",
    "    return s == s[::-1]\n"
   ]
  }
 ],
 "metadata": {
  "kernelspec": {
   "display_name": "Python 3 (ipykernel)",
   "language": "python",
   "name": "python3"
  },
  "language_info": {
   "codemirror_mode": {
    "name": "ipython",
    "version": 3
   },
   "file_extension": ".py",
   "mimetype": "text/x-python",
   "name": "python",
   "nbconvert_exporter": "python",
   "pygments_lexer": "ipython3",
   "version": "3.10.8"
  }
 },
 "nbformat": 4,
 "nbformat_minor": 5
}
