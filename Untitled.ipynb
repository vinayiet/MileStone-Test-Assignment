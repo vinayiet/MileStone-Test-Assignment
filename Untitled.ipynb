{
 "cells": [
  {
   "cell_type": "code",
   "execution_count": 1,
   "id": "e891ccc0-4f53-4c2e-88d8-f8b5a6ece75a",
   "metadata": {},
   "outputs": [
    {
     "name": "stdout",
     "output_type": "stream",
     "text": [
      "Error while connecting to MySQL 2003 (HY000): Can't connect to MySQL server on 'localhost:3306' (99)\n"
     ]
    }
   ],
   "source": [
    "\n",
    "import pandas as pd\n",
    "import mysql.connector\n",
    "from mysql.connector import Error\n",
    "\n",
    "# Initialize connection to None\n",
    "connection = None\n",
    "\n",
    "try:\n",
    "    # Connect to the database\n",
    "    connection = mysql.connector.connect(\n",
    "        host=\"localhost\",\n",
    "        user=\"root\",\n",
    "        password=\"Shivaay@54321\",\n",
    "        database=\"travel_planner\"\n",
    "    )\n",
    "\n",
    "    if connection.is_connected():\n",
    "        # Query the data\n",
    "        query = \"SELECT * FROM bookings\"\n",
    "        cursor = connection.cursor()\n",
    "        cursor.execute(query)\n",
    "        \n",
    "        # Fetch the data\n",
    "        result = cursor.fetchall()\n",
    "        \n",
    "        # Define column names\n",
    "        columns = ['user_id', 'flight_id', 'hotel_id', 'city_id', 'booking_date']\n",
    "        \n",
    "        # Convert to DataFrame\n",
    "        df = pd.DataFrame(result, columns=columns)\n",
    "        print(df)\n",
    "\n",
    "except Error as e:\n",
    "    print(\"Error while connecting to MySQL\", e)\n",
    "\n",
    "finally:\n",
    "    # Check if connection is defined and if it is connected\n",
    "    if connection and connection.is_connected():\n",
    "        connection.close()\n",
    "        print(\"MySQL connection is closed\")\n"
   ]
  }
 ],
 "metadata": {
  "kernelspec": {
   "display_name": "Python 3 (ipykernel)",
   "language": "python",
   "name": "python3"
  },
  "language_info": {
   "codemirror_mode": {
    "name": "ipython",
    "version": 3
   },
   "file_extension": ".py",
   "mimetype": "text/x-python",
   "name": "python",
   "nbconvert_exporter": "python",
   "pygments_lexer": "ipython3",
   "version": "3.10.8"
  }
 },
 "nbformat": 4,
 "nbformat_minor": 5
}
